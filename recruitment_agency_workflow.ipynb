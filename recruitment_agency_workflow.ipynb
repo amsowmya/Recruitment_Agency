{
 "cells": [
  {
   "cell_type": "code",
   "execution_count": 49,
   "id": "64335817",
   "metadata": {},
   "outputs": [
    {
     "data": {
      "text/plain": [
       "True"
      ]
     },
     "execution_count": 49,
     "metadata": {},
     "output_type": "execute_result"
    }
   ],
   "source": [
    "from dotenv import load_dotenv\n",
    "import os \n",
    "from langchain_openai import AzureChatOpenAI\n",
    "\n",
    "load_dotenv()"
   ]
  },
  {
   "cell_type": "code",
   "execution_count": 50,
   "id": "1395a519",
   "metadata": {},
   "outputs": [],
   "source": [
    "os.environ['AZURE_OPENAI_API_KEY'] = os.getenv('AZURE_OPENAI_API_KEY')"
   ]
  },
  {
   "cell_type": "code",
   "execution_count": 51,
   "id": "faba566f",
   "metadata": {},
   "outputs": [
    {
     "data": {
      "text/plain": [
       "'Hello! How can I assist you today?'"
      ]
     },
     "execution_count": 51,
     "metadata": {},
     "output_type": "execute_result"
    }
   ],
   "source": [
    "llm = AzureChatOpenAI(\n",
    "    api_version=os.getenv('AZURE_OPENAI_API_VERSION'),\n",
    "    azure_deployment=os.getenv('AZURE_OPENAI_DEPLOYMENT'),\n",
    "    azure_endpoint=os.getenv('AZURE_OPENAI_ENDPOINT'),\n",
    ")\n",
    "\n",
    "llm.invoke(\"hi\").content"
   ]
  },
  {
   "cell_type": "code",
   "execution_count": 52,
   "id": "502dad3e",
   "metadata": {},
   "outputs": [],
   "source": [
    "from typing_extensions import TypedDict, cast\n",
    "from langchain_core.prompts import ChatPromptTemplate"
   ]
  },
  {
   "cell_type": "code",
   "execution_count": 53,
   "id": "103f59b5",
   "metadata": {},
   "outputs": [],
   "source": [
    "class State(TypedDict):\n",
    "    application: str\n",
    "    experience_level: str\n",
    "    skill_match: str\n",
    "    response: str"
   ]
  },
  {
   "cell_type": "code",
   "execution_count": 54,
   "id": "1cf15a4b",
   "metadata": {},
   "outputs": [],
   "source": [
    "from pydantic import BaseModel\n",
    "from typing import Literal\n",
    "\n",
    "class SkillMatch(BaseModel):\n",
    "    skill_result: Literal['Match', 'No Match']"
   ]
  },
  {
   "cell_type": "code",
   "execution_count": 55,
   "id": "1ca6be63",
   "metadata": {},
   "outputs": [],
   "source": [
    "def categorize_experience(state: State) -> State:\n",
    "    print(\"\\nCategorizing the experience level of candidate : \")\n",
    "    prompt = ChatPromptTemplate.from_template(\n",
    "        \"Based on the following job application, categorize the candidate as 'Entry-level', 'Mid-level' or 'Senior-level'\"\n",
    "        \"Application: {application}\"\n",
    "    )\n",
    "    \n",
    "    chain = prompt | llm \n",
    "    experience_level = chain.invoke({\"application\": state['application']}).content\n",
    "    print(F\"Experience Level: {experience_level}\")\n",
    "    return {\"experience_level\": experience_level}\n",
    "\n",
    "def assess_skillset(state: State) -> State:\n",
    "    print(\"\\nAssessing the skillset of candidate : \")\n",
    "    # prompt = ChatPromptTemplate.from_template(\n",
    "    #     \"Based on the job application for a Python Developer, assess the candidate's skillset\"\n",
    "    #     \"Respond with either 'Match' or 'No Match'\"\n",
    "    #     \"Application: {application}\"\n",
    "    # )\n",
    "    # chain = prompt | llm\n",
    "    # skill_match = chain.invoke({\"application\": state['application']}).content \n",
    "    # print(f\"Skill Match: {skill_match}\")\n",
    "    # return {\"skill_match\": skill_match}\n",
    "    \n",
    "    system_prompt =\"\"\"Based on the job application for a Python Developer, assess the candidate's skillset\n",
    "        \"Respond with either 'Match' or 'No Match'\"\"\"\n",
    "    structured_llm = llm.with_structured_output(SkillMatch, method=\"function_calling\")\n",
    "    \n",
    "    result = cast(\n",
    "        SkillMatch,\n",
    "        structured_llm.invoke(\n",
    "        [\n",
    "            {\"role\": \"system\", \"content\": system_prompt},\n",
    "            {\"role\": \"user\", \"content\": state['application']}\n",
    "        ]\n",
    "    )\n",
    "    )\n",
    "    return {\"skill_match\": result.skill_result}\n",
    "\n",
    "def schedule_hr_interview(state: State) -> State:\n",
    "    print(\"\\nSchedule the interview: \")\n",
    "    return {\"response\": \"Candidate has been shortlisted for an HR interview.\"}\n",
    "\n",
    "def escalate_to_recruiter(state: State) -> State:\n",
    "    print(\"Escalating to recruiter\")\n",
    "    return {\"response\": \"Candidate has senior-level experience but doesn't match job skills.\"}\n",
    "\n",
    "def reject_application(state: State) -> State:\n",
    "    print(\"Sending rejecting email\")\n",
    "    return {\"response\": \"Candidate doesn't meet JD and has been rejected.\"}"
   ]
  },
  {
   "cell_type": "code",
   "execution_count": 56,
   "id": "f4949776",
   "metadata": {},
   "outputs": [],
   "source": [
    "from langgraph.graph import StateGraph, START, END"
   ]
  },
  {
   "cell_type": "code",
   "execution_count": 57,
   "id": "554ec740",
   "metadata": {},
   "outputs": [],
   "source": [
    "def route_app(state:State) -> str:\n",
    "    if (state['skill_match'] == \"Match\"):\n",
    "        return \"schedule_hr_interview\"\n",
    "    elif (state['experience_level'] == \"Senior-level\"):\n",
    "        return \"escalate_to_recruiter\"\n",
    "    else:\n",
    "        return \"reject_application\""
   ]
  },
  {
   "cell_type": "code",
   "execution_count": 58,
   "id": "7c18bac2",
   "metadata": {},
   "outputs": [],
   "source": [
    "workflow = StateGraph(State)\n",
    "\n",
    "workflow.add_node(\"categorize_experience\", categorize_experience)\n",
    "workflow.add_node(\"assess_skillset\", assess_skillset)\n",
    "workflow.add_node(\"schedule_hr_interview\", schedule_hr_interview)\n",
    "workflow.add_node(\"escalate_to_recruiter\", escalate_to_recruiter)\n",
    "workflow.add_node(\"reject_application\", reject_application)\n",
    "\n",
    "workflow.add_edge(START, \"categorize_experience\")\n",
    "workflow.add_edge(\"categorize_experience\", \"assess_skillset\")\n",
    "workflow.add_conditional_edges(\"assess_skillset\", route_app)\n",
    "\n",
    "workflow.add_edge(\"schedule_hr_interview\", END)\n",
    "workflow.add_edge(\"escalate_to_recruiter\", END)\n",
    "workflow.add_edge(\"reject_application\", END)\n",
    "\n",
    "app = workflow.compile()"
   ]
  },
  {
   "cell_type": "code",
   "execution_count": 59,
   "id": "b764d720",
   "metadata": {},
   "outputs": [
    {
     "data": {
      "image/png": "[encoded data removed]",
      "text/plain": [
       "<IPython.core.display.Image object>"
      ]
     },
     "metadata": {},
     "output_type": "display_data"
    }
   ],
   "source": [
    "from IPython.display import Image, display\n",
    "\n",
    "display(\n",
    "    Image(\n",
    "        app.get_graph().draw_mermaid_png()\n",
    "    )\n",
    ")"
   ]
  },
  {
   "cell_type": "code",
   "execution_count": 60,
   "id": "08203c30",
   "metadata": {},
   "outputs": [],
   "source": [
    "def run_candidate_screening(application: str):\n",
    "    results = app.invoke({\"application\": application})\n",
    "    return {\n",
    "        \"experience_level\": results['experience_level'],\n",
    "        \"skill_match\": results['skill_match'],\n",
    "        \"response\": results[\"response\"]\n",
    "    }"
   ]
  },
  {
   "cell_type": "code",
   "execution_count": 61,
   "metadata": {},
   "outputs": [
    {
     "name": "stdout",
     "output_type": "stream",
     "text": [
      "\n",
      "Categorizing the experience level of candidate : \n",
      "Experience Level: Based on the provided job application, the candidate should be categorized as 'Senior-level'. The candidate has 10 years of experience in software engineering, which typically qualifies them for a senior-level position.\n",
      "\n",
      "Assessing the skillset of candidate : \n",
      "\n",
      "Schedule the interview: \n",
      "\n",
      "\n",
      "Computed Results :\n",
      "Application: I have 10 years of experience in software engineering with expertise in Python\n",
      "Experience Level: Based on the provided job application, the candidate should be categorized as 'Senior-level'. The candidate has 10 years of experience in software engineering, which typically qualifies them for a senior-level position.\n",
      "Skill Match: Match\n",
      "Response: Candidate has been shortlisted for an HR interview.\n"
     ]
    }
   ],
   "source": [
    "application_text = \"I have 10 years of experience in software engineering with expertise in Python\"\n",
    "results = run_candidate_screening(application_text)\n",
    "print(\"\\n\\nComputed Results :\")\n",
    "print(f\"Application: {application_text}\")\n",
    "print(f\"Experience Level: {results['experience_level']}\")\n",
    "print(f\"Skill Match: {results['skill_match']}\")\n",
    "print(f\"Response: {results['response']}\")"
   ]
  },
  {
   "cell_type": "code",
   "execution_count": null,
   "metadata": {},
   "outputs": [],
   "source": []
  },
  {
   "cell_type": "code",
   "execution_count": null,
   "id": "ffa654f8",
   "metadata": {},
   "outputs": [],
   "source": []
  }
 ],
 "metadata": {
  "kernelspec": {
   "display_name": "langchain",
   "language": "python",
   "name": "python3"
  },
  "language_info": {
   "codemirror_mode": {
    "name": "ipython",
    "version": 3
   },
   "file_extension": ".py",
   "mimetype": "text/x-python",
   "name": "python",
   "nbconvert_exporter": "python",
   "pygments_lexer": "ipython3",
   "version": "3.10.0"
  }
 },
 "nbformat": 4,
 "nbformat_minor": 5
}
